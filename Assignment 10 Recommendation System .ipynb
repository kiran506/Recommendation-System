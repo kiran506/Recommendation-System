{
 "cells": [
  {
   "cell_type": "code",
   "execution_count": null,
   "id": "d548f66c",
   "metadata": {},
   "outputs": [],
   "source": [
    "import pandas as pd\n",
    "import numpy as np\n",
    "from sklearn.metrics import pairwise_distances\n",
    "from scipy.spatial.distance import cosine, correlation"
   ]
  },
  {
   "cell_type": "code",
   "execution_count": null,
   "id": "9ccb6349",
   "metadata": {},
   "outputs": [],
   "source": [
    "df = pd.read_csv(\"book (2).csv\",encoding ='windows-1252')"
   ]
  },
  {
   "cell_type": "code",
   "execution_count": null,
   "id": "415db0c3",
   "metadata": {},
   "outputs": [],
   "source": [
    "df.head()"
   ]
  },
  {
   "cell_type": "code",
   "execution_count": null,
   "id": "56195a2c",
   "metadata": {},
   "outputs": [],
   "source": [
    "df.shape"
   ]
  },
  {
   "cell_type": "code",
   "execution_count": null,
   "id": "9afc59dc",
   "metadata": {},
   "outputs": [],
   "source": [
    "df[\"User.ID\"].nunique()"
   ]
  },
  {
   "cell_type": "code",
   "execution_count": null,
   "id": "513201d8",
   "metadata": {},
   "outputs": [],
   "source": [
    "df[\"User.ID\"]"
   ]
  },
  {
   "cell_type": "code",
   "execution_count": null,
   "id": "74989dcd",
   "metadata": {},
   "outputs": [],
   "source": [
    "df[\"Book.Title\"].nunique()"
   ]
  },
  {
   "cell_type": "code",
   "execution_count": null,
   "id": "2eecfd86",
   "metadata": {},
   "outputs": [],
   "source": [
    "df[\"Book.Title\"]"
   ]
  },
  {
   "cell_type": "code",
   "execution_count": null,
   "id": "298bb198",
   "metadata": {},
   "outputs": [],
   "source": [
    "df[\"Book.Rating\"].nunique()"
   ]
  },
  {
   "cell_type": "code",
   "execution_count": null,
   "id": "d9f30cc3",
   "metadata": {},
   "outputs": [],
   "source": [
    "df[\"Book.Rating\"]"
   ]
  },
  {
   "cell_type": "code",
   "execution_count": null,
   "id": "cf145b4a",
   "metadata": {},
   "outputs": [],
   "source": [
    "df.info()"
   ]
  },
  {
   "cell_type": "code",
   "execution_count": null,
   "id": "0a0ab585",
   "metadata": {},
   "outputs": [],
   "source": [
    "import matplotlib.pyplot as plt\n",
    "import seaborn as sns\n",
    "sns.set_style('white')\n",
    "%matplotlib inline"
   ]
  },
  {
   "cell_type": "code",
   "execution_count": null,
   "id": "a0e88f2c",
   "metadata": {},
   "outputs": [],
   "source": [
    "df.groupby(\"Book.Title\")[\"Book.Rating\"].mean().sort_values(ascending=False).head(20)"
   ]
  },
  {
   "cell_type": "code",
   "execution_count": null,
   "id": "7f98e4e4",
   "metadata": {},
   "outputs": [],
   "source": [
    "df.groupby(\"Book.Title\")[\"Book.Rating\"].count().sort_values(ascending=False).head(20)"
   ]
  },
  {
   "cell_type": "code",
   "execution_count": null,
   "id": "a7393050",
   "metadata": {},
   "outputs": [],
   "source": [
    "ratings = pd.DataFrame(df.groupby(\"Book.Title\")[\"Book.Rating\"].mean())\n",
    "ratings.head()"
   ]
  },
  {
   "cell_type": "code",
   "execution_count": null,
   "id": "60eb78d8",
   "metadata": {},
   "outputs": [],
   "source": [
    "ratings[\"Number of ratings\"] = pd.DataFrame(df.groupby(\"Book.Title\")[\"Book.Rating\"].count())\n",
    "ratings.head()"
   ]
  },
  {
   "cell_type": "markdown",
   "id": "8157428c",
   "metadata": {},
   "source": [
    "# Visualising the Ratings column"
   ]
  },
  {
   "cell_type": "code",
   "execution_count": null,
   "id": "8ce35c69",
   "metadata": {},
   "outputs": [],
   "source": [
    "plt.figure(figsize=(10,4))\n",
    "ratings[\"Book.Rating\"].hist()"
   ]
  },
  {
   "cell_type": "markdown",
   "id": "02df7ac4",
   "metadata": {},
   "source": [
    "# Deleting \"Unnamed: 0\" column as it is not needed"
   ]
  },
  {
   "cell_type": "code",
   "execution_count": null,
   "id": "12228eb8",
   "metadata": {},
   "outputs": [],
   "source": [
    "del df[\"Unnamed: 0\"]"
   ]
  },
  {
   "cell_type": "code",
   "execution_count": null,
   "id": "8cb6f363",
   "metadata": {},
   "outputs": [],
   "source": [
    "df"
   ]
  },
  {
   "cell_type": "code",
   "execution_count": null,
   "id": "0d9c4504",
   "metadata": {},
   "outputs": [],
   "source": [
    "df.sort_values([\"User.ID\"])"
   ]
  },
  {
   "cell_type": "code",
   "execution_count": null,
   "id": "59ff37f6",
   "metadata": {},
   "outputs": [],
   "source": [
    "books_df = df.pivot_table(index=\"User.ID\",columns=\"Book.Title\",values=\"Book.Rating\").reset_index(drop=True)"
   ]
  },
  {
   "cell_type": "code",
   "execution_count": null,
   "id": "d9fbd65e",
   "metadata": {},
   "outputs": [],
   "source": [
    "books_df"
   ]
  },
  {
   "cell_type": "markdown",
   "id": "f6f70c7a",
   "metadata": {},
   "source": [
    "# Imputing NaN values with 0"
   ]
  },
  {
   "cell_type": "code",
   "execution_count": null,
   "id": "6915f16b",
   "metadata": {},
   "outputs": [],
   "source": [
    "books_df.fillna(0, inplace=True)"
   ]
  },
  {
   "cell_type": "code",
   "execution_count": null,
   "id": "80b574a8",
   "metadata": {},
   "outputs": [],
   "source": [
    "books_df"
   ]
  },
  {
   "cell_type": "markdown",
   "id": "3f4e36f5",
   "metadata": {},
   "source": [
    "# Calculating Cosine similarities between users"
   ]
  },
  {
   "cell_type": "code",
   "execution_count": null,
   "id": "0d322dbc",
   "metadata": {},
   "outputs": [],
   "source": [
    "book2 = 1-pairwise_distances(books_df.values, metric='cosine')\n",
    "book2"
   ]
  },
  {
   "cell_type": "code",
   "execution_count": null,
   "id": "42e4e36e",
   "metadata": {},
   "outputs": [],
   "source": [
    "book_2 = pd.DataFrame(book2)\n",
    "book_2"
   ]
  },
  {
   "cell_type": "markdown",
   "id": "57834935",
   "metadata": {},
   "source": [
    "# Set index and column name to user id\n"
   ]
  },
  {
   "cell_type": "code",
   "execution_count": null,
   "id": "38d74ace",
   "metadata": {},
   "outputs": [],
   "source": [
    "book_2.index = df[\"User.ID\"].unique()\n",
    "book_2.columns = df[\"User.ID\"].unique()"
   ]
  },
  {
   "cell_type": "code",
   "execution_count": null,
   "id": "fe1ce481",
   "metadata": {},
   "outputs": [],
   "source": [
    "book_2"
   ]
  },
  {
   "cell_type": "markdown",
   "id": "f4938213",
   "metadata": {},
   "source": [
    "# Nullify diagonal values"
   ]
  },
  {
   "cell_type": "code",
   "execution_count": null,
   "id": "536bfb93",
   "metadata": {},
   "outputs": [],
   "source": [
    "np.fill_diagonal(book2,0)\n",
    "book_2"
   ]
  },
  {
   "cell_type": "markdown",
   "id": "d2c684c7",
   "metadata": {},
   "source": [
    "# Most similar users"
   ]
  },
  {
   "cell_type": "code",
   "execution_count": null,
   "id": "79fc1f2b",
   "metadata": {},
   "outputs": [],
   "source": [
    "book_2.idxmax(axis=1)"
   ]
  },
  {
   "cell_type": "code",
   "execution_count": null,
   "id": "42d02a6d",
   "metadata": {},
   "outputs": [],
   "source": [
    "df[(df[\"User.ID\"]==162107) | (df[\"User.ID\"]==276726)]"
   ]
  },
  {
   "cell_type": "markdown",
   "id": "99663b1d",
   "metadata": {},
   "source": [
    "# Inference:- The book read by user 162107 is recommended to user 276726"
   ]
  },
  {
   "cell_type": "markdown",
   "id": "509e7307",
   "metadata": {},
   "source": [
    "# Extract the books which userid 162129 and 276726 have read"
   ]
  },
  {
   "cell_type": "code",
   "execution_count": null,
   "id": "60410862",
   "metadata": {},
   "outputs": [],
   "source": [
    "df[(df[\"User.ID\"]==162129) | (df[\"User.ID\"]==276726)]"
   ]
  },
  {
   "cell_type": "code",
   "execution_count": null,
   "id": "c4d5e26b",
   "metadata": {},
   "outputs": [],
   "source": [
    "User_1 = df[(df['User.ID']==276729)]\n",
    "User_2 = df[(df['User.ID']==276726)]"
   ]
  },
  {
   "cell_type": "code",
   "execution_count": null,
   "id": "8af2f1f2",
   "metadata": {},
   "outputs": [],
   "source": [
    "User_1['Book.Title']"
   ]
  },
  {
   "cell_type": "code",
   "execution_count": null,
   "id": "1df2b3e2",
   "metadata": {},
   "outputs": [],
   "source": [
    "User_2['Book.Title']"
   ]
  },
  {
   "cell_type": "code",
   "execution_count": null,
   "id": "f314ec40",
   "metadata": {},
   "outputs": [],
   "source": [
    "pd.merge(User_1, User_2, how = 'outer',on='Book.Title')"
   ]
  },
  {
   "cell_type": "markdown",
   "id": "af96408b",
   "metadata": {},
   "source": [
    "# Inference:- The book read by user 276726 is recommended to user 276729"
   ]
  },
  {
   "cell_type": "code",
   "execution_count": null,
   "id": "2afe055d",
   "metadata": {},
   "outputs": [],
   "source": []
  }
 ],
 "metadata": {
  "kernelspec": {
   "display_name": "Python 3 (ipykernel)",
   "language": "python",
   "name": "python3"
  },
  "language_info": {
   "codemirror_mode": {
    "name": "ipython",
    "version": 3
   },
   "file_extension": ".py",
   "mimetype": "text/x-python",
   "name": "python",
   "nbconvert_exporter": "python",
   "pygments_lexer": "ipython3",
   "version": "3.9.7"
  }
 },
 "nbformat": 4,
 "nbformat_minor": 5
}
